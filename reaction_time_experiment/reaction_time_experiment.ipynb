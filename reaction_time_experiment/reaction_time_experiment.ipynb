{
 "cells": [
  {
   "cell_type": "markdown",
   "metadata": {
    "id": "5pP2_H2woH_w"
   },
   "source": [
    "# Reaction Time Analysis"
   ]
  },
  {
   "cell_type": "markdown",
   "metadata": {
    "id": "Wh5dFfFaw3JZ"
   },
   "source": [
    "## Description\n",
    "We have conducted a study to measure the reaction time under different conditions. The first condition was that the participants had to react to a visual stimulus, i.e. whenever a green circle appeared, they had to press the space bar. In the second condition, the circle contained a random number between one and three and the participant had to press the space bar only if it was the previously randomly determined correct number. With this we want to measure the influence of mental demand on reaction time. Our hypothesis is that reaction time will increase when participants are mentally challenged.\n",
    "\n",
    "The study was conceptualised as a within-subject design with 10 repetitions for each condition. The dependent variable is the reaction time which was measured in milliseconds via key logging. The independent variables are the visual stimulus (green circle) and the task for the mental demand (green circle with number). \n",
    "\n",
    "In this study, a Tuxedo notebook (InfinityBook Pro 14 v5) with a built-in keyboard was used.\n",
    "\n",
    "For the measurement, the participant id, the condition, the reaction time and the timestamp were logged. To document incorrect entries,  we saved whether the correct key was pressed, the value of the pressed key, whether a circle was shown and whether the key was pressed when the circle with the correct number appeared.\n",
    "The boolean values were furthermore summarized in a column called \"is_correct_reaction\" for easier evaluation. We also recorded the number of circles displayed, since this varies with the second condition due to the random selection.\n",
    "\n",
    "Due to the current situation, we only had three participants (two female, one male) who each performed the study twice. Two participants were media informatics students and one a software developer. The ages of the participants were 22, 25, and 38."
   ]
  },
  {
   "cell_type": "markdown",
   "metadata": {},
   "source": [
    "### Install and import of all relevant libraries"
   ]
  },
  {
   "cell_type": "code",
   "execution_count": 56,
   "metadata": {},
   "outputs": [
    {
     "name": "stdout",
     "output_type": "stream",
     "text": [
      "Requirement already satisfied: pingouin in /home/sarah/.local/lib/python3.9/site-packages (0.3.11)\n",
      "Requirement already satisfied: outdated in /home/sarah/.local/lib/python3.9/site-packages (from pingouin) (0.2.1)\n",
      "Requirement already satisfied: numpy>=1.15 in /usr/lib/python3/dist-packages (from pingouin) (1.19.5)\n",
      "Requirement already satisfied: pandas>=0.24 in /usr/lib/python3/dist-packages (from pingouin) (1.1.5)\n",
      "Requirement already satisfied: tabulate in /home/sarah/.local/lib/python3.9/site-packages (from pingouin) (0.8.9)\n",
      "Requirement already satisfied: seaborn>=0.9.0 in /home/sarah/.local/lib/python3.9/site-packages (from pingouin) (0.11.1)\n",
      "Requirement already satisfied: scikit-learn in /usr/lib/python3/dist-packages (from pingouin) (0.23.2)\n",
      "Requirement already satisfied: scipy>=1.3 in /usr/lib/python3/dist-packages (from pingouin) (1.6.0)\n",
      "Requirement already satisfied: pandas-flavor>=0.1.2 in /home/sarah/.local/lib/python3.9/site-packages (from pingouin) (0.2.0)\n",
      "Requirement already satisfied: statsmodels>=0.10.0 in /home/sarah/.local/lib/python3.9/site-packages (from pingouin) (0.12.2)\n",
      "Requirement already satisfied: matplotlib>=3.0.2 in /usr/lib/python3/dist-packages (from pingouin) (3.3.4)\n",
      "Requirement already satisfied: xarray in /home/sarah/.local/lib/python3.9/site-packages (from pandas-flavor>=0.1.2->pingouin) (0.17.0)\n",
      "Requirement already satisfied: patsy>=0.5 in /home/sarah/.local/lib/python3.9/site-packages (from statsmodels>=0.10.0->pingouin) (0.5.1)\n",
      "Requirement already satisfied: six in /usr/lib/python3/dist-packages (from patsy>=0.5->statsmodels>=0.10.0->pingouin) (1.15.0)\n",
      "Requirement already satisfied: requests in /usr/lib/python3/dist-packages (from outdated->pingouin) (2.25.1)\n",
      "Requirement already satisfied: littleutils in /home/sarah/.local/lib/python3.9/site-packages (from outdated->pingouin) (0.2.2)\n",
      "Requirement already satisfied: setuptools>=40.4 in /usr/lib/python3/dist-packages (from xarray->pandas-flavor>=0.1.2->pingouin) (52.0.0)\n"
     ]
    }
   ],
   "source": [
    "!pip3 install pingouin"
   ]
  },
  {
   "cell_type": "code",
   "execution_count": 1,
   "metadata": {
    "id": "xFJLkHzLoFHX"
   },
   "outputs": [],
   "source": [
    "import numpy as np\n",
    "import pandas as pd\n",
    "import seaborn as sns\n",
    "import matplotlib\n",
    "import pingouin as pg\n",
    "from matplotlib import pyplot as plt"
   ]
  },
  {
   "cell_type": "markdown",
   "metadata": {},
   "source": [
    "### Load the csv tables"
   ]
  },
  {
   "cell_type": "code",
   "execution_count": 2,
   "metadata": {},
   "outputs": [],
   "source": [
    "raw_data_single_stimulus_1 = pd.read_csv('./id_1_trial_single_stimulus.csv')\n",
    "raw_data_single_stimulus_2 = pd.read_csv('./id_2_trial_single_stimulus.csv')\n",
    "raw_data_single_stimulus_3 = pd.read_csv('./id_3_trial_single_stimulus.csv')\n",
    "raw_data_single_stimulus_4 = pd.read_csv('./id_4_trial_single_stimulus.csv')\n",
    "raw_data_single_stimulus_5 = pd.read_csv('./id_5_trial_single_stimulus.csv')\n",
    "raw_data_single_stimulus_6 = pd.read_csv('./id_6_trial_single_stimulus.csv')\n",
    "\n",
    "raw_data_mental_demand_1 = pd.read_csv('./id_1_trial_mental_demand.csv')\n",
    "raw_data_mental_demand_2 = pd.read_csv('./id_2_trial_mental_demand.csv')\n",
    "raw_data_mental_demand_3 = pd.read_csv('./id_3_trial_mental_demand.csv')\n",
    "raw_data_mental_demand_4 = pd.read_csv('./id_4_trial_mental_demand.csv')\n",
    "raw_data_mental_demand_5 = pd.read_csv('./id_5_trial_mental_demand.csv')\n",
    "raw_data_mental_demand_6 = pd.read_csv('./id_6_trial_mental_demand.csv')"
   ]
  },
  {
   "cell_type": "markdown",
   "metadata": {},
   "source": [
    "### Combine the individual tables of the participants and save them"
   ]
  },
  {
   "cell_type": "code",
   "execution_count": 3,
   "metadata": {},
   "outputs": [],
   "source": [
    "reaction_time_results_single_stimulus = pd.concat([raw_data_single_stimulus_1, \n",
    "                                      raw_data_single_stimulus_2,\n",
    "                                      raw_data_single_stimulus_3,\n",
    "                                      raw_data_single_stimulus_4,\n",
    "                                      raw_data_single_stimulus_5,\n",
    "                                      raw_data_single_stimulus_6])\n",
    "\n",
    "reaction_time_results_single_stimulus.to_csv('reaction_time_results_single_stimulus.csv', index=False)"
   ]
  },
  {
   "cell_type": "code",
   "execution_count": 4,
   "metadata": {},
   "outputs": [],
   "source": [
    "reaction_time_results_mental_demand = pd.concat([raw_data_mental_demand_1,\n",
    "                                    raw_data_mental_demand_2,\n",
    "                                    raw_data_mental_demand_3,\n",
    "                                    raw_data_mental_demand_4,\n",
    "                                    raw_data_mental_demand_5,\n",
    "                                    raw_data_mental_demand_6])\n",
    "\n",
    "reaction_time_results_mental_demand.to_csv('reaction_time_results_mental_demand.csv', index=False)"
   ]
  },
  {
   "cell_type": "code",
   "execution_count": 5,
   "metadata": {
    "colab": {
     "base_uri": "https://localhost:8080/",
     "height": 1000
    },
    "id": "rVf5tiHDzb_z",
    "outputId": "78a40bc1-a8be-41ea-f865-619d3b673240"
   },
   "outputs": [
    {
     "data": {
      "text/html": [
       "<div>\n",
       "<style scoped>\n",
       "    .dataframe tbody tr th:only-of-type {\n",
       "        vertical-align: middle;\n",
       "    }\n",
       "\n",
       "    .dataframe tbody tr th {\n",
       "        vertical-align: top;\n",
       "    }\n",
       "\n",
       "    .dataframe thead th {\n",
       "        text-align: right;\n",
       "    }\n",
       "</style>\n",
       "<table border=\"1\" class=\"dataframe\">\n",
       "  <thead>\n",
       "    <tr style=\"text-align: right;\">\n",
       "      <th></th>\n",
       "      <th>participant_id</th>\n",
       "      <th>condition</th>\n",
       "      <th>shown_stimulus</th>\n",
       "      <th>pressed_key</th>\n",
       "      <th>is_correct_key</th>\n",
       "      <th>reaction_time_in_ms</th>\n",
       "      <th>timestamp</th>\n",
       "      <th>is_circle_shown</th>\n",
       "      <th>number_of_circles</th>\n",
       "      <th>is_correct_number</th>\n",
       "      <th>is_correct_reaction</th>\n",
       "    </tr>\n",
       "  </thead>\n",
       "  <tbody>\n",
       "    <tr>\n",
       "      <th>0</th>\n",
       "      <td>1</td>\n",
       "      <td>single_stimulus</td>\n",
       "      <td>circle appears</td>\n",
       "      <td>32</td>\n",
       "      <td>True</td>\n",
       "      <td>432.252</td>\n",
       "      <td>2021-05-04 15:11:22.853987</td>\n",
       "      <td>True</td>\n",
       "      <td>1</td>\n",
       "      <td>NaN</td>\n",
       "      <td>True</td>\n",
       "    </tr>\n",
       "    <tr>\n",
       "      <th>1</th>\n",
       "      <td>1</td>\n",
       "      <td>single_stimulus</td>\n",
       "      <td>circle appears</td>\n",
       "      <td>32</td>\n",
       "      <td>True</td>\n",
       "      <td>231.910</td>\n",
       "      <td>2021-05-04 15:11:26.655145</td>\n",
       "      <td>True</td>\n",
       "      <td>2</td>\n",
       "      <td>NaN</td>\n",
       "      <td>True</td>\n",
       "    </tr>\n",
       "    <tr>\n",
       "      <th>2</th>\n",
       "      <td>1</td>\n",
       "      <td>single_stimulus</td>\n",
       "      <td>circle appears</td>\n",
       "      <td>32</td>\n",
       "      <td>True</td>\n",
       "      <td>262.485</td>\n",
       "      <td>2021-05-04 15:11:31.686080</td>\n",
       "      <td>True</td>\n",
       "      <td>3</td>\n",
       "      <td>NaN</td>\n",
       "      <td>True</td>\n",
       "    </tr>\n",
       "    <tr>\n",
       "      <th>3</th>\n",
       "      <td>1</td>\n",
       "      <td>single_stimulus</td>\n",
       "      <td>circle appears</td>\n",
       "      <td>32</td>\n",
       "      <td>True</td>\n",
       "      <td>253.845</td>\n",
       "      <td>2021-05-04 15:11:36.676911</td>\n",
       "      <td>True</td>\n",
       "      <td>4</td>\n",
       "      <td>NaN</td>\n",
       "      <td>True</td>\n",
       "    </tr>\n",
       "    <tr>\n",
       "      <th>4</th>\n",
       "      <td>1</td>\n",
       "      <td>single_stimulus</td>\n",
       "      <td>circle appears</td>\n",
       "      <td>32</td>\n",
       "      <td>True</td>\n",
       "      <td>324.973</td>\n",
       "      <td>2021-05-04 15:11:40.998591</td>\n",
       "      <td>True</td>\n",
       "      <td>5</td>\n",
       "      <td>NaN</td>\n",
       "      <td>True</td>\n",
       "    </tr>\n",
       "    <tr>\n",
       "      <th>...</th>\n",
       "      <td>...</td>\n",
       "      <td>...</td>\n",
       "      <td>...</td>\n",
       "      <td>...</td>\n",
       "      <td>...</td>\n",
       "      <td>...</td>\n",
       "      <td>...</td>\n",
       "      <td>...</td>\n",
       "      <td>...</td>\n",
       "      <td>...</td>\n",
       "      <td>...</td>\n",
       "    </tr>\n",
       "    <tr>\n",
       "      <th>6</th>\n",
       "      <td>6</td>\n",
       "      <td>mental_demand</td>\n",
       "      <td>circle with number 1</td>\n",
       "      <td>32</td>\n",
       "      <td>True</td>\n",
       "      <td>439.719</td>\n",
       "      <td>2021-05-04 17:16:58.866047</td>\n",
       "      <td>True</td>\n",
       "      <td>20</td>\n",
       "      <td>1.0</td>\n",
       "      <td>True</td>\n",
       "    </tr>\n",
       "    <tr>\n",
       "      <th>7</th>\n",
       "      <td>6</td>\n",
       "      <td>mental_demand</td>\n",
       "      <td>circle with number 1</td>\n",
       "      <td>32</td>\n",
       "      <td>True</td>\n",
       "      <td>370.780</td>\n",
       "      <td>2021-05-04 17:17:07.794690</td>\n",
       "      <td>True</td>\n",
       "      <td>22</td>\n",
       "      <td>1.0</td>\n",
       "      <td>True</td>\n",
       "    </tr>\n",
       "    <tr>\n",
       "      <th>8</th>\n",
       "      <td>6</td>\n",
       "      <td>mental_demand</td>\n",
       "      <td>circle with number 1</td>\n",
       "      <td>32</td>\n",
       "      <td>True</td>\n",
       "      <td>450.018</td>\n",
       "      <td>2021-05-04 17:17:27.870110</td>\n",
       "      <td>True</td>\n",
       "      <td>26</td>\n",
       "      <td>1.0</td>\n",
       "      <td>True</td>\n",
       "    </tr>\n",
       "    <tr>\n",
       "      <th>9</th>\n",
       "      <td>6</td>\n",
       "      <td>mental_demand</td>\n",
       "      <td>circle with number 1</td>\n",
       "      <td>32</td>\n",
       "      <td>True</td>\n",
       "      <td>467.275</td>\n",
       "      <td>2021-05-04 17:17:30.513868</td>\n",
       "      <td>True</td>\n",
       "      <td>27</td>\n",
       "      <td>1.0</td>\n",
       "      <td>True</td>\n",
       "    </tr>\n",
       "    <tr>\n",
       "      <th>10</th>\n",
       "      <td>6</td>\n",
       "      <td>mental_demand</td>\n",
       "      <td>circle with number 1</td>\n",
       "      <td>32</td>\n",
       "      <td>True</td>\n",
       "      <td>466.689</td>\n",
       "      <td>2021-05-04 17:17:43.489522</td>\n",
       "      <td>True</td>\n",
       "      <td>30</td>\n",
       "      <td>1.0</td>\n",
       "      <td>True</td>\n",
       "    </tr>\n",
       "  </tbody>\n",
       "</table>\n",
       "<p>124 rows × 11 columns</p>\n",
       "</div>"
      ],
      "text/plain": [
       "    participant_id        condition        shown_stimulus  pressed_key  \\\n",
       "0                1  single_stimulus        circle appears           32   \n",
       "1                1  single_stimulus        circle appears           32   \n",
       "2                1  single_stimulus        circle appears           32   \n",
       "3                1  single_stimulus        circle appears           32   \n",
       "4                1  single_stimulus        circle appears           32   \n",
       "..             ...              ...                   ...          ...   \n",
       "6                6    mental_demand  circle with number 1           32   \n",
       "7                6    mental_demand  circle with number 1           32   \n",
       "8                6    mental_demand  circle with number 1           32   \n",
       "9                6    mental_demand  circle with number 1           32   \n",
       "10               6    mental_demand  circle with number 1           32   \n",
       "\n",
       "    is_correct_key  reaction_time_in_ms                   timestamp  \\\n",
       "0             True              432.252  2021-05-04 15:11:22.853987   \n",
       "1             True              231.910  2021-05-04 15:11:26.655145   \n",
       "2             True              262.485  2021-05-04 15:11:31.686080   \n",
       "3             True              253.845  2021-05-04 15:11:36.676911   \n",
       "4             True              324.973  2021-05-04 15:11:40.998591   \n",
       "..             ...                  ...                         ...   \n",
       "6             True              439.719  2021-05-04 17:16:58.866047   \n",
       "7             True              370.780  2021-05-04 17:17:07.794690   \n",
       "8             True              450.018  2021-05-04 17:17:27.870110   \n",
       "9             True              467.275  2021-05-04 17:17:30.513868   \n",
       "10            True              466.689  2021-05-04 17:17:43.489522   \n",
       "\n",
       "    is_circle_shown  number_of_circles  is_correct_number  is_correct_reaction  \n",
       "0              True                  1                NaN                 True  \n",
       "1              True                  2                NaN                 True  \n",
       "2              True                  3                NaN                 True  \n",
       "3              True                  4                NaN                 True  \n",
       "4              True                  5                NaN                 True  \n",
       "..              ...                ...                ...                  ...  \n",
       "6              True                 20                1.0                 True  \n",
       "7              True                 22                1.0                 True  \n",
       "8              True                 26                1.0                 True  \n",
       "9              True                 27                1.0                 True  \n",
       "10             True                 30                1.0                 True  \n",
       "\n",
       "[124 rows x 11 columns]"
      ]
     },
     "execution_count": 5,
     "metadata": {},
     "output_type": "execute_result"
    }
   ],
   "source": [
    "reaction_time_results = pd.concat([reaction_time_results_single_stimulus, reaction_time_results_mental_demand])\n",
    "reaction_time_results.to_csv('reaction_time_results.csv', index=False)\n",
    "reaction_time_results"
   ]
  },
  {
   "cell_type": "markdown",
   "metadata": {},
   "source": [
    "### Filter the data with relevant columns for analysis of reaction time and save the result"
   ]
  },
  {
   "cell_type": "code",
   "execution_count": 6,
   "metadata": {
    "id": "cLIp_3n7oMM8"
   },
   "outputs": [],
   "source": [
    "filtered_data = reaction_time_results[['participant_id', 'condition', 'reaction_time_in_ms', 'is_correct_reaction']]\n",
    "filtered_data.to_csv('filtered_data.csv', index=False)"
   ]
  },
  {
   "cell_type": "code",
   "execution_count": 7,
   "metadata": {
    "colab": {
     "base_uri": "https://localhost:8080/",
     "height": 771
    },
    "id": "ne14jmx6oxCs",
    "outputId": "fbd11b96-bb67-40a0-a9f1-5d2094f6b6c4",
    "scrolled": true
   },
   "outputs": [
    {
     "data": {
      "text/html": [
       "<div>\n",
       "<style scoped>\n",
       "    .dataframe tbody tr th:only-of-type {\n",
       "        vertical-align: middle;\n",
       "    }\n",
       "\n",
       "    .dataframe tbody tr th {\n",
       "        vertical-align: top;\n",
       "    }\n",
       "\n",
       "    .dataframe thead th {\n",
       "        text-align: right;\n",
       "    }\n",
       "</style>\n",
       "<table border=\"1\" class=\"dataframe\">\n",
       "  <thead>\n",
       "    <tr style=\"text-align: right;\">\n",
       "      <th></th>\n",
       "      <th>participant_id</th>\n",
       "      <th>condition</th>\n",
       "      <th>reaction_time_in_ms</th>\n",
       "      <th>is_correct_reaction</th>\n",
       "    </tr>\n",
       "  </thead>\n",
       "  <tbody>\n",
       "    <tr>\n",
       "      <th>0</th>\n",
       "      <td>1</td>\n",
       "      <td>single_stimulus</td>\n",
       "      <td>432.252</td>\n",
       "      <td>True</td>\n",
       "    </tr>\n",
       "    <tr>\n",
       "      <th>1</th>\n",
       "      <td>1</td>\n",
       "      <td>single_stimulus</td>\n",
       "      <td>231.910</td>\n",
       "      <td>True</td>\n",
       "    </tr>\n",
       "    <tr>\n",
       "      <th>2</th>\n",
       "      <td>1</td>\n",
       "      <td>single_stimulus</td>\n",
       "      <td>262.485</td>\n",
       "      <td>True</td>\n",
       "    </tr>\n",
       "    <tr>\n",
       "      <th>3</th>\n",
       "      <td>1</td>\n",
       "      <td>single_stimulus</td>\n",
       "      <td>253.845</td>\n",
       "      <td>True</td>\n",
       "    </tr>\n",
       "    <tr>\n",
       "      <th>4</th>\n",
       "      <td>1</td>\n",
       "      <td>single_stimulus</td>\n",
       "      <td>324.973</td>\n",
       "      <td>True</td>\n",
       "    </tr>\n",
       "    <tr>\n",
       "      <th>...</th>\n",
       "      <td>...</td>\n",
       "      <td>...</td>\n",
       "      <td>...</td>\n",
       "      <td>...</td>\n",
       "    </tr>\n",
       "    <tr>\n",
       "      <th>6</th>\n",
       "      <td>6</td>\n",
       "      <td>mental_demand</td>\n",
       "      <td>439.719</td>\n",
       "      <td>True</td>\n",
       "    </tr>\n",
       "    <tr>\n",
       "      <th>7</th>\n",
       "      <td>6</td>\n",
       "      <td>mental_demand</td>\n",
       "      <td>370.780</td>\n",
       "      <td>True</td>\n",
       "    </tr>\n",
       "    <tr>\n",
       "      <th>8</th>\n",
       "      <td>6</td>\n",
       "      <td>mental_demand</td>\n",
       "      <td>450.018</td>\n",
       "      <td>True</td>\n",
       "    </tr>\n",
       "    <tr>\n",
       "      <th>9</th>\n",
       "      <td>6</td>\n",
       "      <td>mental_demand</td>\n",
       "      <td>467.275</td>\n",
       "      <td>True</td>\n",
       "    </tr>\n",
       "    <tr>\n",
       "      <th>10</th>\n",
       "      <td>6</td>\n",
       "      <td>mental_demand</td>\n",
       "      <td>466.689</td>\n",
       "      <td>True</td>\n",
       "    </tr>\n",
       "  </tbody>\n",
       "</table>\n",
       "<p>124 rows × 4 columns</p>\n",
       "</div>"
      ],
      "text/plain": [
       "    participant_id        condition  reaction_time_in_ms  is_correct_reaction\n",
       "0                1  single_stimulus              432.252                 True\n",
       "1                1  single_stimulus              231.910                 True\n",
       "2                1  single_stimulus              262.485                 True\n",
       "3                1  single_stimulus              253.845                 True\n",
       "4                1  single_stimulus              324.973                 True\n",
       "..             ...              ...                  ...                  ...\n",
       "6                6    mental_demand              439.719                 True\n",
       "7                6    mental_demand              370.780                 True\n",
       "8                6    mental_demand              450.018                 True\n",
       "9                6    mental_demand              467.275                 True\n",
       "10               6    mental_demand              466.689                 True\n",
       "\n",
       "[124 rows x 4 columns]"
      ]
     },
     "execution_count": 7,
     "metadata": {},
     "output_type": "execute_result"
    }
   ],
   "source": [
    "filtered_data"
   ]
  },
  {
   "cell_type": "markdown",
   "metadata": {},
   "source": [
    "### Filter the data so that only the reaction times when the user reacted correctly are included,\n",
    "i.e. when a circle was shown, the correct key was pressed and the circle had the correct number when the user reacted and save the result."
   ]
  },
  {
   "cell_type": "code",
   "execution_count": 8,
   "metadata": {
    "id": "56FxlKCapqUW"
   },
   "outputs": [],
   "source": [
    "correct_reaction_times = filtered_data[filtered_data['is_correct_reaction']]\n",
    "correct_reaction_times = correct_reaction_times[['participant_id', 'condition', 'reaction_time_in_ms']]\n",
    "correct_reaction_times.to_csv('correct_reaction_times.csv', index=False)"
   ]
  },
  {
   "cell_type": "code",
   "execution_count": 9,
   "metadata": {
    "colab": {
     "base_uri": "https://localhost:8080/",
     "height": 1000
    },
    "id": "A_7D1VyQqdyJ",
    "outputId": "69a4ba9d-c880-4acf-954d-20aa165f7d36"
   },
   "outputs": [
    {
     "data": {
      "text/html": [
       "<div>\n",
       "<style scoped>\n",
       "    .dataframe tbody tr th:only-of-type {\n",
       "        vertical-align: middle;\n",
       "    }\n",
       "\n",
       "    .dataframe tbody tr th {\n",
       "        vertical-align: top;\n",
       "    }\n",
       "\n",
       "    .dataframe thead th {\n",
       "        text-align: right;\n",
       "    }\n",
       "</style>\n",
       "<table border=\"1\" class=\"dataframe\">\n",
       "  <thead>\n",
       "    <tr style=\"text-align: right;\">\n",
       "      <th></th>\n",
       "      <th>participant_id</th>\n",
       "      <th>condition</th>\n",
       "      <th>reaction_time_in_ms</th>\n",
       "    </tr>\n",
       "  </thead>\n",
       "  <tbody>\n",
       "    <tr>\n",
       "      <th>0</th>\n",
       "      <td>1</td>\n",
       "      <td>single_stimulus</td>\n",
       "      <td>432.252</td>\n",
       "    </tr>\n",
       "    <tr>\n",
       "      <th>1</th>\n",
       "      <td>1</td>\n",
       "      <td>single_stimulus</td>\n",
       "      <td>231.910</td>\n",
       "    </tr>\n",
       "    <tr>\n",
       "      <th>2</th>\n",
       "      <td>1</td>\n",
       "      <td>single_stimulus</td>\n",
       "      <td>262.485</td>\n",
       "    </tr>\n",
       "    <tr>\n",
       "      <th>3</th>\n",
       "      <td>1</td>\n",
       "      <td>single_stimulus</td>\n",
       "      <td>253.845</td>\n",
       "    </tr>\n",
       "    <tr>\n",
       "      <th>4</th>\n",
       "      <td>1</td>\n",
       "      <td>single_stimulus</td>\n",
       "      <td>324.973</td>\n",
       "    </tr>\n",
       "    <tr>\n",
       "      <th>...</th>\n",
       "      <td>...</td>\n",
       "      <td>...</td>\n",
       "      <td>...</td>\n",
       "    </tr>\n",
       "    <tr>\n",
       "      <th>6</th>\n",
       "      <td>6</td>\n",
       "      <td>mental_demand</td>\n",
       "      <td>439.719</td>\n",
       "    </tr>\n",
       "    <tr>\n",
       "      <th>7</th>\n",
       "      <td>6</td>\n",
       "      <td>mental_demand</td>\n",
       "      <td>370.780</td>\n",
       "    </tr>\n",
       "    <tr>\n",
       "      <th>8</th>\n",
       "      <td>6</td>\n",
       "      <td>mental_demand</td>\n",
       "      <td>450.018</td>\n",
       "    </tr>\n",
       "    <tr>\n",
       "      <th>9</th>\n",
       "      <td>6</td>\n",
       "      <td>mental_demand</td>\n",
       "      <td>467.275</td>\n",
       "    </tr>\n",
       "    <tr>\n",
       "      <th>10</th>\n",
       "      <td>6</td>\n",
       "      <td>mental_demand</td>\n",
       "      <td>466.689</td>\n",
       "    </tr>\n",
       "  </tbody>\n",
       "</table>\n",
       "<p>120 rows × 3 columns</p>\n",
       "</div>"
      ],
      "text/plain": [
       "    participant_id        condition  reaction_time_in_ms\n",
       "0                1  single_stimulus              432.252\n",
       "1                1  single_stimulus              231.910\n",
       "2                1  single_stimulus              262.485\n",
       "3                1  single_stimulus              253.845\n",
       "4                1  single_stimulus              324.973\n",
       "..             ...              ...                  ...\n",
       "6                6    mental_demand              439.719\n",
       "7                6    mental_demand              370.780\n",
       "8                6    mental_demand              450.018\n",
       "9                6    mental_demand              467.275\n",
       "10               6    mental_demand              466.689\n",
       "\n",
       "[120 rows x 3 columns]"
      ]
     },
     "execution_count": 9,
     "metadata": {},
     "output_type": "execute_result"
    }
   ],
   "source": [
    "correct_reaction_times"
   ]
  },
  {
   "cell_type": "markdown",
   "metadata": {},
   "source": [
    "### Size of the data frames"
   ]
  },
  {
   "cell_type": "code",
   "execution_count": 10,
   "metadata": {},
   "outputs": [
    {
     "data": {
      "text/plain": [
       "124"
      ]
     },
     "execution_count": 10,
     "metadata": {},
     "output_type": "execute_result"
    }
   ],
   "source": [
    "len(reaction_time_results)"
   ]
  },
  {
   "cell_type": "code",
   "execution_count": 11,
   "metadata": {},
   "outputs": [
    {
     "data": {
      "text/plain": [
       "61"
      ]
     },
     "execution_count": 11,
     "metadata": {},
     "output_type": "execute_result"
    }
   ],
   "source": [
    "len(reaction_time_results_single_stimulus)"
   ]
  },
  {
   "cell_type": "code",
   "execution_count": 12,
   "metadata": {},
   "outputs": [
    {
     "data": {
      "text/plain": [
       "63"
      ]
     },
     "execution_count": 12,
     "metadata": {},
     "output_type": "execute_result"
    }
   ],
   "source": [
    "len(reaction_time_results_mental_demand)"
   ]
  },
  {
   "cell_type": "code",
   "execution_count": 13,
   "metadata": {
    "colab": {
     "base_uri": "https://localhost:8080/"
    },
    "id": "mqPbfrlAtPiV",
    "outputId": "bd0aa704-9282-4712-e3ef-ce3b3bbe3b2b"
   },
   "outputs": [
    {
     "data": {
      "text/plain": [
       "120"
      ]
     },
     "execution_count": 13,
     "metadata": {},
     "output_type": "execute_result"
    }
   ],
   "source": [
    "len(correct_reaction_times)"
   ]
  },
  {
   "cell_type": "markdown",
   "metadata": {},
   "source": [
    "### Statistic for all tables"
   ]
  },
  {
   "cell_type": "code",
   "execution_count": 14,
   "metadata": {},
   "outputs": [
    {
     "data": {
      "text/html": [
       "<div>\n",
       "<style scoped>\n",
       "    .dataframe tbody tr th:only-of-type {\n",
       "        vertical-align: middle;\n",
       "    }\n",
       "\n",
       "    .dataframe tbody tr th {\n",
       "        vertical-align: top;\n",
       "    }\n",
       "\n",
       "    .dataframe thead th {\n",
       "        text-align: right;\n",
       "    }\n",
       "</style>\n",
       "<table border=\"1\" class=\"dataframe\">\n",
       "  <thead>\n",
       "    <tr style=\"text-align: right;\">\n",
       "      <th></th>\n",
       "      <th>participant_id</th>\n",
       "      <th>pressed_key</th>\n",
       "      <th>reaction_time_in_ms</th>\n",
       "      <th>number_of_circles</th>\n",
       "      <th>is_correct_number</th>\n",
       "    </tr>\n",
       "  </thead>\n",
       "  <tbody>\n",
       "    <tr>\n",
       "      <th>count</th>\n",
       "      <td>124.000000</td>\n",
       "      <td>124.0</td>\n",
       "      <td>123.000000</td>\n",
       "      <td>124.000000</td>\n",
       "      <td>63.000000</td>\n",
       "    </tr>\n",
       "    <tr>\n",
       "      <th>mean</th>\n",
       "      <td>3.516129</td>\n",
       "      <td>32.0</td>\n",
       "      <td>375.521789</td>\n",
       "      <td>14.169355</td>\n",
       "      <td>0.952381</td>\n",
       "    </tr>\n",
       "    <tr>\n",
       "      <th>std</th>\n",
       "      <td>1.722561</td>\n",
       "      <td>0.0</td>\n",
       "      <td>79.701750</td>\n",
       "      <td>10.769365</td>\n",
       "      <td>0.214669</td>\n",
       "    </tr>\n",
       "    <tr>\n",
       "      <th>min</th>\n",
       "      <td>1.000000</td>\n",
       "      <td>32.0</td>\n",
       "      <td>231.910000</td>\n",
       "      <td>1.000000</td>\n",
       "      <td>0.000000</td>\n",
       "    </tr>\n",
       "    <tr>\n",
       "      <th>25%</th>\n",
       "      <td>2.000000</td>\n",
       "      <td>32.0</td>\n",
       "      <td>315.928000</td>\n",
       "      <td>6.000000</td>\n",
       "      <td>1.000000</td>\n",
       "    </tr>\n",
       "    <tr>\n",
       "      <th>50%</th>\n",
       "      <td>4.000000</td>\n",
       "      <td>32.0</td>\n",
       "      <td>368.239000</td>\n",
       "      <td>11.000000</td>\n",
       "      <td>1.000000</td>\n",
       "    </tr>\n",
       "    <tr>\n",
       "      <th>75%</th>\n",
       "      <td>5.000000</td>\n",
       "      <td>32.0</td>\n",
       "      <td>433.165500</td>\n",
       "      <td>21.250000</td>\n",
       "      <td>1.000000</td>\n",
       "    </tr>\n",
       "    <tr>\n",
       "      <th>max</th>\n",
       "      <td>6.000000</td>\n",
       "      <td>32.0</td>\n",
       "      <td>656.646000</td>\n",
       "      <td>51.000000</td>\n",
       "      <td>1.000000</td>\n",
       "    </tr>\n",
       "  </tbody>\n",
       "</table>\n",
       "</div>"
      ],
      "text/plain": [
       "       participant_id  pressed_key  reaction_time_in_ms  number_of_circles  \\\n",
       "count      124.000000        124.0           123.000000         124.000000   \n",
       "mean         3.516129         32.0           375.521789          14.169355   \n",
       "std          1.722561          0.0            79.701750          10.769365   \n",
       "min          1.000000         32.0           231.910000           1.000000   \n",
       "25%          2.000000         32.0           315.928000           6.000000   \n",
       "50%          4.000000         32.0           368.239000          11.000000   \n",
       "75%          5.000000         32.0           433.165500          21.250000   \n",
       "max          6.000000         32.0           656.646000          51.000000   \n",
       "\n",
       "       is_correct_number  \n",
       "count          63.000000  \n",
       "mean            0.952381  \n",
       "std             0.214669  \n",
       "min             0.000000  \n",
       "25%             1.000000  \n",
       "50%             1.000000  \n",
       "75%             1.000000  \n",
       "max             1.000000  "
      ]
     },
     "execution_count": 14,
     "metadata": {},
     "output_type": "execute_result"
    }
   ],
   "source": [
    "reaction_time_results.describe()"
   ]
  },
  {
   "cell_type": "code",
   "execution_count": 15,
   "metadata": {
    "colab": {
     "base_uri": "https://localhost:8080/",
     "height": 300
    },
    "id": "zmAIb13av54u",
    "outputId": "fba15df3-ee20-4c3b-ff75-928bb812267f",
    "scrolled": true
   },
   "outputs": [
    {
     "data": {
      "text/html": [
       "<div>\n",
       "<style scoped>\n",
       "    .dataframe tbody tr th:only-of-type {\n",
       "        vertical-align: middle;\n",
       "    }\n",
       "\n",
       "    .dataframe tbody tr th {\n",
       "        vertical-align: top;\n",
       "    }\n",
       "\n",
       "    .dataframe thead th {\n",
       "        text-align: right;\n",
       "    }\n",
       "</style>\n",
       "<table border=\"1\" class=\"dataframe\">\n",
       "  <thead>\n",
       "    <tr style=\"text-align: right;\">\n",
       "      <th></th>\n",
       "      <th>participant_id</th>\n",
       "      <th>reaction_time_in_ms</th>\n",
       "    </tr>\n",
       "  </thead>\n",
       "  <tbody>\n",
       "    <tr>\n",
       "      <th>count</th>\n",
       "      <td>120.000000</td>\n",
       "      <td>120.000000</td>\n",
       "    </tr>\n",
       "    <tr>\n",
       "      <th>mean</th>\n",
       "      <td>3.500000</td>\n",
       "      <td>375.945175</td>\n",
       "    </tr>\n",
       "    <tr>\n",
       "      <th>std</th>\n",
       "      <td>1.714986</td>\n",
       "      <td>80.489584</td>\n",
       "    </tr>\n",
       "    <tr>\n",
       "      <th>min</th>\n",
       "      <td>1.000000</td>\n",
       "      <td>231.910000</td>\n",
       "    </tr>\n",
       "    <tr>\n",
       "      <th>25%</th>\n",
       "      <td>2.000000</td>\n",
       "      <td>315.204750</td>\n",
       "    </tr>\n",
       "    <tr>\n",
       "      <th>50%</th>\n",
       "      <td>3.500000</td>\n",
       "      <td>369.173000</td>\n",
       "    </tr>\n",
       "    <tr>\n",
       "      <th>75%</th>\n",
       "      <td>5.000000</td>\n",
       "      <td>434.521000</td>\n",
       "    </tr>\n",
       "    <tr>\n",
       "      <th>max</th>\n",
       "      <td>6.000000</td>\n",
       "      <td>656.646000</td>\n",
       "    </tr>\n",
       "  </tbody>\n",
       "</table>\n",
       "</div>"
      ],
      "text/plain": [
       "       participant_id  reaction_time_in_ms\n",
       "count      120.000000           120.000000\n",
       "mean         3.500000           375.945175\n",
       "std          1.714986            80.489584\n",
       "min          1.000000           231.910000\n",
       "25%          2.000000           315.204750\n",
       "50%          3.500000           369.173000\n",
       "75%          5.000000           434.521000\n",
       "max          6.000000           656.646000"
      ]
     },
     "execution_count": 15,
     "metadata": {},
     "output_type": "execute_result"
    }
   ],
   "source": [
    "correct_reaction_times.describe()"
   ]
  },
  {
   "cell_type": "code",
   "execution_count": 16,
   "metadata": {},
   "outputs": [
    {
     "data": {
      "text/html": [
       "<div>\n",
       "<style scoped>\n",
       "    .dataframe tbody tr th:only-of-type {\n",
       "        vertical-align: middle;\n",
       "    }\n",
       "\n",
       "    .dataframe tbody tr th {\n",
       "        vertical-align: top;\n",
       "    }\n",
       "\n",
       "    .dataframe thead th {\n",
       "        text-align: right;\n",
       "    }\n",
       "</style>\n",
       "<table border=\"1\" class=\"dataframe\">\n",
       "  <thead>\n",
       "    <tr style=\"text-align: right;\">\n",
       "      <th></th>\n",
       "      <th>participant_id</th>\n",
       "      <th>reaction_time_in_ms</th>\n",
       "    </tr>\n",
       "  </thead>\n",
       "  <tbody>\n",
       "    <tr>\n",
       "      <th>count</th>\n",
       "      <td>60.000000</td>\n",
       "      <td>60.000000</td>\n",
       "    </tr>\n",
       "    <tr>\n",
       "      <th>mean</th>\n",
       "      <td>3.500000</td>\n",
       "      <td>318.699450</td>\n",
       "    </tr>\n",
       "    <tr>\n",
       "      <th>std</th>\n",
       "      <td>1.722237</td>\n",
       "      <td>49.990213</td>\n",
       "    </tr>\n",
       "    <tr>\n",
       "      <th>min</th>\n",
       "      <td>1.000000</td>\n",
       "      <td>231.910000</td>\n",
       "    </tr>\n",
       "    <tr>\n",
       "      <th>25%</th>\n",
       "      <td>2.000000</td>\n",
       "      <td>290.831750</td>\n",
       "    </tr>\n",
       "    <tr>\n",
       "      <th>50%</th>\n",
       "      <td>3.500000</td>\n",
       "      <td>314.685500</td>\n",
       "    </tr>\n",
       "    <tr>\n",
       "      <th>75%</th>\n",
       "      <td>5.000000</td>\n",
       "      <td>335.233750</td>\n",
       "    </tr>\n",
       "    <tr>\n",
       "      <th>max</th>\n",
       "      <td>6.000000</td>\n",
       "      <td>513.883000</td>\n",
       "    </tr>\n",
       "  </tbody>\n",
       "</table>\n",
       "</div>"
      ],
      "text/plain": [
       "       participant_id  reaction_time_in_ms\n",
       "count       60.000000            60.000000\n",
       "mean         3.500000           318.699450\n",
       "std          1.722237            49.990213\n",
       "min          1.000000           231.910000\n",
       "25%          2.000000           290.831750\n",
       "50%          3.500000           314.685500\n",
       "75%          5.000000           335.233750\n",
       "max          6.000000           513.883000"
      ]
     },
     "execution_count": 16,
     "metadata": {},
     "output_type": "execute_result"
    }
   ],
   "source": [
    "correct_reaction_times[correct_reaction_times['condition'] == 'single_stimulus'].describe()"
   ]
  },
  {
   "cell_type": "code",
   "execution_count": 17,
   "metadata": {},
   "outputs": [
    {
     "data": {
      "text/html": [
       "<div>\n",
       "<style scoped>\n",
       "    .dataframe tbody tr th:only-of-type {\n",
       "        vertical-align: middle;\n",
       "    }\n",
       "\n",
       "    .dataframe tbody tr th {\n",
       "        vertical-align: top;\n",
       "    }\n",
       "\n",
       "    .dataframe thead th {\n",
       "        text-align: right;\n",
       "    }\n",
       "</style>\n",
       "<table border=\"1\" class=\"dataframe\">\n",
       "  <thead>\n",
       "    <tr style=\"text-align: right;\">\n",
       "      <th></th>\n",
       "      <th>participant_id</th>\n",
       "      <th>reaction_time_in_ms</th>\n",
       "    </tr>\n",
       "  </thead>\n",
       "  <tbody>\n",
       "    <tr>\n",
       "      <th>count</th>\n",
       "      <td>60.000000</td>\n",
       "      <td>60.000000</td>\n",
       "    </tr>\n",
       "    <tr>\n",
       "      <th>mean</th>\n",
       "      <td>3.500000</td>\n",
       "      <td>433.190900</td>\n",
       "    </tr>\n",
       "    <tr>\n",
       "      <th>std</th>\n",
       "      <td>1.722237</td>\n",
       "      <td>62.471578</td>\n",
       "    </tr>\n",
       "    <tr>\n",
       "      <th>min</th>\n",
       "      <td>1.000000</td>\n",
       "      <td>336.568000</td>\n",
       "    </tr>\n",
       "    <tr>\n",
       "      <th>25%</th>\n",
       "      <td>2.000000</td>\n",
       "      <td>389.066000</td>\n",
       "    </tr>\n",
       "    <tr>\n",
       "      <th>50%</th>\n",
       "      <td>3.500000</td>\n",
       "      <td>427.969500</td>\n",
       "    </tr>\n",
       "    <tr>\n",
       "      <th>75%</th>\n",
       "      <td>5.000000</td>\n",
       "      <td>463.597500</td>\n",
       "    </tr>\n",
       "    <tr>\n",
       "      <th>max</th>\n",
       "      <td>6.000000</td>\n",
       "      <td>656.646000</td>\n",
       "    </tr>\n",
       "  </tbody>\n",
       "</table>\n",
       "</div>"
      ],
      "text/plain": [
       "       participant_id  reaction_time_in_ms\n",
       "count       60.000000            60.000000\n",
       "mean         3.500000           433.190900\n",
       "std          1.722237            62.471578\n",
       "min          1.000000           336.568000\n",
       "25%          2.000000           389.066000\n",
       "50%          3.500000           427.969500\n",
       "75%          5.000000           463.597500\n",
       "max          6.000000           656.646000"
      ]
     },
     "execution_count": 17,
     "metadata": {},
     "output_type": "execute_result"
    }
   ],
   "source": [
    "correct_reaction_times[correct_reaction_times['condition'] == 'mental_demand'].describe()"
   ]
  },
  {
   "cell_type": "markdown",
   "metadata": {
    "id": "Vgw8ytGIxOiF"
   },
   "source": [
    "## Scatter plots"
   ]
  },
  {
   "cell_type": "code",
   "execution_count": 18,
   "metadata": {
    "colab": {
     "base_uri": "https://localhost:8080/",
     "height": 280
    },
    "id": "3plozB2M00-P",
    "outputId": "0aadf8a7-c76a-42a4-ba94-f9e96f50387d"
   },
   "outputs": [
    {
     "data": {
      "image/png": "[encoded data removed]",
      "text/plain": [
       "<Figure size 432x288 with 1 Axes>"
      ]
     },
     "metadata": {
      "needs_background": "light"
     },
     "output_type": "display_data"
    }
   ],
   "source": [
    "scatter_plot = sns.scatterplot(\n",
    "    data = correct_reaction_times,\n",
    "    x = \"condition\",\n",
    "    y = \"reaction_time_in_ms\",\n",
    "    )\n",
    "scatter_plot.set(xlabel = \"Condition\", ylabel = \"Reaction time [ms]\")\n",
    "plt.show()"
   ]
  },
  {
   "cell_type": "code",
   "execution_count": 19,
   "metadata": {},
   "outputs": [
    {
     "data": {
      "image/png": "[encoded data removed]",
      "text/plain": [
       "<Figure size 432x288 with 1 Axes>"
      ]
     },
     "metadata": {
      "needs_background": "light"
     },
     "output_type": "display_data"
    }
   ],
   "source": [
    "scatter_plot_grouped = sns.scatterplot(\n",
    "    data = correct_reaction_times,\n",
    "    x = \"participant_id\",\n",
    "    y = \"reaction_time_in_ms\",\n",
    "    hue = \"condition\",\n",
    "    )\n",
    "scatter_plot_grouped.set(xlabel = \"Condition\", ylabel = \"Reaction time [ms]\")\n",
    "plt.show()"
   ]
  },
  {
   "cell_type": "markdown",
   "metadata": {},
   "source": [
    "## Swarm plots"
   ]
  },
  {
   "cell_type": "code",
   "execution_count": 20,
   "metadata": {
    "colab": {
     "base_uri": "https://localhost:8080/",
     "height": 266
    },
    "id": "84UH11l_2rnb",
    "outputId": "954c810c-a633-4e24-ff31-3aece56bbead"
   },
   "outputs": [
    {
     "data": {
      "image/png": "[encoded data removed]",
      "text/plain": [
       "<Figure size 432x288 with 1 Axes>"
      ]
     },
     "metadata": {
      "needs_background": "light"
     },
     "output_type": "display_data"
    }
   ],
   "source": [
    "swarm_plot = sns.swarmplot(\n",
    "    data = correct_reaction_times,\n",
    "    y = \"reaction_time_in_ms\",\n",
    "    x = \"condition\",\n",
    ")\n",
    "swarm_plot.set(xlabel = \"Condition\", ylabel = \"Reaction time [ms]\")\n",
    "\n",
    "plt.show()"
   ]
  },
  {
   "cell_type": "code",
   "execution_count": 21,
   "metadata": {},
   "outputs": [
    {
     "data": {
      "image/png": "[encoded data removed]",
      "text/plain": [
       "<Figure size 432x288 with 1 Axes>"
      ]
     },
     "metadata": {
      "needs_background": "light"
     },
     "output_type": "display_data"
    }
   ],
   "source": [
    "swarm_plot_grouped = sns.swarmplot(\n",
    "    data = correct_reaction_times,\n",
    "    y = \"reaction_time_in_ms\",\n",
    "    x = \"condition\",\n",
    "    hue = \"participant_id\",\n",
    ")\n",
    "swarm_plot_grouped.set(xlabel = \"Condition\", ylabel = \"Reaction time [ms]\")\n",
    "\n",
    "plt.show()"
   ]
  },
  {
   "cell_type": "code",
   "execution_count": 22,
   "metadata": {
    "colab": {
     "base_uri": "https://localhost:8080/",
     "height": 252
    },
    "id": "6C3nRH163eMu",
    "outputId": "c1ad2697-817c-4aad-dc18-0c35773fdfe6"
   },
   "outputs": [
    {
     "data": {
      "image/png": "[encoded data removed]",
      "text/plain": [
       "<Figure size 432x288 with 1 Axes>"
      ]
     },
     "metadata": {
      "needs_background": "light"
     },
     "output_type": "display_data"
    }
   ],
   "source": [
    "plot_correct_reaction = sns.swarmplot(\n",
    "    data = reaction_time_results,\n",
    "    y = \"reaction_time_in_ms\",\n",
    "    x = \"condition\",\n",
    "    hue = \"is_correct_reaction\",\n",
    "    hue_order = [True, False]\n",
    ")\n",
    "plot_correct_reaction.set(xlabel = \"Condition\", ylabel = \"Reaction time [ms]\")\n",
    "plot_correct_reaction.legend(title = \"Correct reaction\")\n",
    "\n",
    "plt.show()"
   ]
  },
  {
   "cell_type": "code",
   "execution_count": 23,
   "metadata": {
    "colab": {
     "base_uri": "https://localhost:8080/",
     "height": 269
    },
    "id": "K6nLiBci2_U2",
    "outputId": "38cbf821-5a33-4e60-e4aa-90580529c3ba"
   },
   "outputs": [
    {
     "data": {
      "image/png": "[encoded data removed]",
      "text/plain": [
       "<Figure size 432x288 with 1 Axes>"
      ]
     },
     "metadata": {
      "needs_background": "light"
     },
     "output_type": "display_data"
    }
   ],
   "source": [
    "plot_correct_key = sns.swarmplot(\n",
    "    data = reaction_time_results,\n",
    "    y = \"reaction_time_in_ms\",\n",
    "    x = \"condition\",\n",
    "    hue = \"is_correct_key\",\n",
    "    hue_order = [True, False]\n",
    ")\n",
    "plot_correct_key.set(xlabel = \"Condition\", ylabel = \"Reaction time [ms]\")\n",
    "plot_correct_key.legend(title = \"Correct key\")\n",
    "\n",
    "plt.show()"
   ]
  },
  {
   "cell_type": "code",
   "execution_count": 39,
   "metadata": {
    "scrolled": true
   },
   "outputs": [
    {
     "data": {
      "image/png": "[encoded data removed]",
      "text/plain": [
       "<Figure size 432x288 with 1 Axes>"
      ]
     },
     "metadata": {
      "needs_background": "light"
     },
     "output_type": "display_data"
    }
   ],
   "source": [
    "plot_circle_shown = sns.swarmplot(\n",
    "    data = reaction_time_results,\n",
    "    y = \"reaction_time_in_ms\",\n",
    "    x = \"condition\",\n",
    "    hue = \"is_circle_shown\",\n",
    "    hue_order = [True, False]\n",
    ")\n",
    "plot_circle_shown.set(xlabel = \"Condition\", ylabel = \"Reaction time [ms]\")\n",
    "plot_circle_shown.legend(title = \"Circle was shown\")\n",
    "\n",
    "plt.show()"
   ]
  },
  {
   "cell_type": "code",
   "execution_count": 28,
   "metadata": {},
   "outputs": [
    {
     "data": {
      "image/png": "[encoded data removed]",
      "text/plain": [
       "<Figure size 432x288 with 1 Axes>"
      ]
     },
     "metadata": {
      "needs_background": "light"
     },
     "output_type": "display_data"
    }
   ],
   "source": [
    "plot_correct_number = sns.swarmplot(\n",
    "    data = reaction_time_results[(reaction_time_results['condition'] == 'mental_demand')],\n",
    "    y = \"reaction_time_in_ms\",\n",
    "    x = \"condition\",\n",
    "    hue = \"is_correct_number\",\n",
    "    hue_order = [True, False]\n",
    ")\n",
    "plot_correct_number.set(xlabel = \"mental_demand\", ylabel = \"Reaction time [ms]\", xticklabels = [])\n",
    "plot_correct_number.legend(title = \"Correct number\")\n",
    "\n",
    "plt.show()"
   ]
  },
  {
   "cell_type": "markdown",
   "metadata": {
    "id": "j9hWxlOHxUsf"
   },
   "source": [
    "## Boxplot for reaction time per condition"
   ]
  },
  {
   "cell_type": "code",
   "execution_count": 29,
   "metadata": {
    "colab": {
     "base_uri": "https://localhost:8080/",
     "height": 280
    },
    "id": "NNmYWvOt25Mc",
    "outputId": "16875041-86f1-4101-d1d6-365f51f2727a"
   },
   "outputs": [
    {
     "data": {
      "image/png": "[encoded data removed]",
      "text/plain": [
       "<Figure size 432x288 with 1 Axes>"
      ]
     },
     "metadata": {
      "needs_background": "light"
     },
     "output_type": "display_data"
    }
   ],
   "source": [
    "box_plot = sns.boxplot(\n",
    "    data = correct_reaction_times,\n",
    "    x = \"condition\",\n",
    "    y = \"reaction_time_in_ms\"\n",
    ")\n",
    "\n",
    "box_plot.set(xlabel = \"Condition\", ylabel = \"Reaction time [ms]\")\n",
    "\n",
    "plt.show()"
   ]
  },
  {
   "cell_type": "markdown",
   "metadata": {
    "id": "MNlShSQmxadI"
   },
   "source": [
    "## T-tests"
   ]
  },
  {
   "cell_type": "code",
   "execution_count": 30,
   "metadata": {
    "id": "HEskHJz17w1L"
   },
   "outputs": [],
   "source": [
    "from scipy.stats import ttest_ind, linregress"
   ]
  },
  {
   "cell_type": "code",
   "execution_count": 31,
   "metadata": {
    "id": "JnWQbs_J7J--"
   },
   "outputs": [],
   "source": [
    "x1 = correct_reaction_times[correct_reaction_times['condition'] == 'single_stimulus']['reaction_time_in_ms']\n",
    "x2 = correct_reaction_times[correct_reaction_times['condition'] == 'mental_demand']['reaction_time_in_ms']"
   ]
  },
  {
   "cell_type": "markdown",
   "metadata": {},
   "source": [
    "__T-test with scipy library.__"
   ]
  },
  {
   "cell_type": "code",
   "execution_count": 32,
   "metadata": {
    "colab": {
     "base_uri": "https://localhost:8080/"
    },
    "id": "M7LjOPX-7n_S",
    "outputId": "723cd336-d76f-4be7-f09c-2183974a5664"
   },
   "outputs": [
    {
     "data": {
      "text/plain": [
       "Ttest_indResult(statistic=-11.08409813861553, pvalue=5.3096369986775634e-20)"
      ]
     },
     "execution_count": 32,
     "metadata": {},
     "output_type": "execute_result"
    }
   ],
   "source": [
    "ttest_ind(x1, x2)"
   ]
  },
  {
   "cell_type": "markdown",
   "metadata": {},
   "source": [
    "__T-test with pingouin library.__"
   ]
  },
  {
   "cell_type": "code",
   "execution_count": 33,
   "metadata": {
    "id": "lmKk5kcC6TcW"
   },
   "outputs": [
    {
     "data": {
      "text/html": [
       "<div>\n",
       "<style scoped>\n",
       "    .dataframe tbody tr th:only-of-type {\n",
       "        vertical-align: middle;\n",
       "    }\n",
       "\n",
       "    .dataframe tbody tr th {\n",
       "        vertical-align: top;\n",
       "    }\n",
       "\n",
       "    .dataframe thead th {\n",
       "        text-align: right;\n",
       "    }\n",
       "</style>\n",
       "<table border=\"1\" class=\"dataframe\">\n",
       "  <thead>\n",
       "    <tr style=\"text-align: right;\">\n",
       "      <th></th>\n",
       "      <th>Source</th>\n",
       "      <th>SS</th>\n",
       "      <th>DF</th>\n",
       "      <th>MS</th>\n",
       "      <th>F</th>\n",
       "      <th>p-unc</th>\n",
       "      <th>np2</th>\n",
       "    </tr>\n",
       "  </thead>\n",
       "  <tbody>\n",
       "    <tr>\n",
       "      <th>0</th>\n",
       "      <td>condition</td>\n",
       "      <td>393248.763693</td>\n",
       "      <td>1</td>\n",
       "      <td>393248.763693</td>\n",
       "      <td>122.857232</td>\n",
       "      <td>5.309637e-20</td>\n",
       "      <td>0.510083</td>\n",
       "    </tr>\n",
       "    <tr>\n",
       "      <th>1</th>\n",
       "      <td>Within</td>\n",
       "      <td>377701.446888</td>\n",
       "      <td>118</td>\n",
       "      <td>3200.859719</td>\n",
       "      <td>NaN</td>\n",
       "      <td>NaN</td>\n",
       "      <td>NaN</td>\n",
       "    </tr>\n",
       "  </tbody>\n",
       "</table>\n",
       "</div>"
      ],
      "text/plain": [
       "      Source             SS   DF             MS           F         p-unc  \\\n",
       "0  condition  393248.763693    1  393248.763693  122.857232  5.309637e-20   \n",
       "1     Within  377701.446888  118    3200.859719         NaN           NaN   \n",
       "\n",
       "        np2  \n",
       "0  0.510083  \n",
       "1       NaN  "
      ]
     },
     "execution_count": 33,
     "metadata": {},
     "output_type": "execute_result"
    }
   ],
   "source": [
    "pg.anova(data=correct_reaction_times, dv=\"reaction_time_in_ms\", between=\"condition\", ss_type=2,detailed=True, effsize=\"np2\")"
   ]
  },
  {
   "cell_type": "markdown",
   "metadata": {},
   "source": [
    "__Test for homogeneity of variance__"
   ]
  },
  {
   "cell_type": "code",
   "execution_count": 34,
   "metadata": {},
   "outputs": [
    {
     "data": {
      "text/html": [
       "<div>\n",
       "<style scoped>\n",
       "    .dataframe tbody tr th:only-of-type {\n",
       "        vertical-align: middle;\n",
       "    }\n",
       "\n",
       "    .dataframe tbody tr th {\n",
       "        vertical-align: top;\n",
       "    }\n",
       "\n",
       "    .dataframe thead th {\n",
       "        text-align: right;\n",
       "    }\n",
       "</style>\n",
       "<table border=\"1\" class=\"dataframe\">\n",
       "  <thead>\n",
       "    <tr style=\"text-align: right;\">\n",
       "      <th></th>\n",
       "      <th>T</th>\n",
       "      <th>pval</th>\n",
       "      <th>equal_var</th>\n",
       "    </tr>\n",
       "  </thead>\n",
       "  <tbody>\n",
       "    <tr>\n",
       "      <th>bartlett</th>\n",
       "      <td>2.882592</td>\n",
       "      <td>0.089542</td>\n",
       "      <td>True</td>\n",
       "    </tr>\n",
       "  </tbody>\n",
       "</table>\n",
       "</div>"
      ],
      "text/plain": [
       "                 T      pval  equal_var\n",
       "bartlett  2.882592  0.089542       True"
      ]
     },
     "execution_count": 34,
     "metadata": {},
     "output_type": "execute_result"
    }
   ],
   "source": [
    "pg.homoscedasticity(data=correct_reaction_times, dv=\"reaction_time_in_ms\", group=\"condition\", method=\"bartlett\")"
   ]
  },
  {
   "cell_type": "markdown",
   "metadata": {},
   "source": [
    "__Test for normal distribution.__"
   ]
  },
  {
   "cell_type": "code",
   "execution_count": 35,
   "metadata": {},
   "outputs": [
    {
     "data": {
      "text/html": [
       "<div>\n",
       "<style scoped>\n",
       "    .dataframe tbody tr th:only-of-type {\n",
       "        vertical-align: middle;\n",
       "    }\n",
       "\n",
       "    .dataframe tbody tr th {\n",
       "        vertical-align: top;\n",
       "    }\n",
       "\n",
       "    .dataframe thead th {\n",
       "        text-align: right;\n",
       "    }\n",
       "</style>\n",
       "<table border=\"1\" class=\"dataframe\">\n",
       "  <thead>\n",
       "    <tr style=\"text-align: right;\">\n",
       "      <th></th>\n",
       "      <th>W</th>\n",
       "      <th>pval</th>\n",
       "      <th>normal</th>\n",
       "    </tr>\n",
       "  </thead>\n",
       "  <tbody>\n",
       "    <tr>\n",
       "      <th>single_stimulus</th>\n",
       "      <td>0.926667</td>\n",
       "      <td>0.001438</td>\n",
       "      <td>False</td>\n",
       "    </tr>\n",
       "    <tr>\n",
       "      <th>mental_demand</th>\n",
       "      <td>0.943323</td>\n",
       "      <td>0.007647</td>\n",
       "      <td>False</td>\n",
       "    </tr>\n",
       "  </tbody>\n",
       "</table>\n",
       "</div>"
      ],
      "text/plain": [
       "                        W      pval  normal\n",
       "single_stimulus  0.926667  0.001438   False\n",
       "mental_demand    0.943323  0.007647   False"
      ]
     },
     "execution_count": 35,
     "metadata": {},
     "output_type": "execute_result"
    }
   ],
   "source": [
    "pg.normality(data=correct_reaction_times, dv=\"reaction_time_in_ms\", group=\"condition\")"
   ]
  },
  {
   "cell_type": "markdown",
   "metadata": {},
   "source": [
    "__The variance of the data is homogeneous, but the data are not normally distributed, so a Welch-Anova test is performed.__"
   ]
  },
  {
   "cell_type": "code",
   "execution_count": 36,
   "metadata": {},
   "outputs": [
    {
     "data": {
      "text/html": [
       "<div>\n",
       "<style scoped>\n",
       "    .dataframe tbody tr th:only-of-type {\n",
       "        vertical-align: middle;\n",
       "    }\n",
       "\n",
       "    .dataframe tbody tr th {\n",
       "        vertical-align: top;\n",
       "    }\n",
       "\n",
       "    .dataframe thead th {\n",
       "        text-align: right;\n",
       "    }\n",
       "</style>\n",
       "<table border=\"1\" class=\"dataframe\">\n",
       "  <thead>\n",
       "    <tr style=\"text-align: right;\">\n",
       "      <th></th>\n",
       "      <th>Source</th>\n",
       "      <th>ddof1</th>\n",
       "      <th>ddof2</th>\n",
       "      <th>F</th>\n",
       "      <th>p-unc</th>\n",
       "      <th>np2</th>\n",
       "    </tr>\n",
       "  </thead>\n",
       "  <tbody>\n",
       "    <tr>\n",
       "      <th>0</th>\n",
       "      <td>condition</td>\n",
       "      <td>1</td>\n",
       "      <td>112.587106</td>\n",
       "      <td>122.857232</td>\n",
       "      <td>9.476237e-20</td>\n",
       "      <td>0.510083</td>\n",
       "    </tr>\n",
       "  </tbody>\n",
       "</table>\n",
       "</div>"
      ],
      "text/plain": [
       "      Source  ddof1       ddof2           F         p-unc       np2\n",
       "0  condition      1  112.587106  122.857232  9.476237e-20  0.510083"
      ]
     },
     "execution_count": 36,
     "metadata": {},
     "output_type": "execute_result"
    }
   ],
   "source": [
    "pg.welch_anova(data=correct_reaction_times, dv=\"reaction_time_in_ms\", between=\"condition\")"
   ]
  },
  {
   "cell_type": "markdown",
   "metadata": {
    "id": "yW8RSYWWxcuR"
   },
   "source": [
    "## Results\n",
    "\n",
    "For \"single stimulus\", the average reaction time is slightly lower (M = 318.70 ms, SD = 49.99, n=60) than for \"mental demand\" (M = 433.19, SD = 62.47, n=60). The boxplot visualises these results. Moreover, in the plot we can identify two outliers for \"single stimulus\" and one for \"mental demand\".\n",
    "\n",
    "A t-test and Welch-Anova-test show that the differences between the conditions are over significant (t(1) = 122.86, p < 0,001). According to Cohen (2013) defining .01 as a small effect, .06 as a medium effect and .14 as a large effect, we have a small effect ($\\eta²$ = 0.51). This implies that there are small differences regarding the reaction time between the two conditions and the hypothesis is confirmed.\n",
    "\n",
    "\n",
    "__Source:__ Cohen, J. (2013). Statistical power analysis for the behavioral sciences. Academic press."
   ]
  },
  {
   "cell_type": "markdown",
   "metadata": {},
   "source": [
    "## Discussion\n",
    "The results must be viewed critically because the number of participants was very low. In addition, due to the current situation, each participant did the study twice, which might have an influence on the variance of the data.\n",
    "\n",
    "With \"mental demand\", the circles were each given a randomly generated number from 1 to 3 and the user was only allowed to press the space bar if the correct number appeared. This meant that the number of circles that appeared varied greatly from run to run, as the random number generator was not very balanced. The partly great number of displayed circles increased the duration of the study so that fatigue effects cannot be excluded. In a further study, the random number generator should be improved and the design changed to reduce fatigue effects.\n"
   ]
  }
 ],
 "metadata": {
  "colab": {
   "collapsed_sections": [],
   "name": "Assignment3.ipynb",
   "provenance": [],
   "toc_visible": true
  },
  "kernelspec": {
   "display_name": "Python 3",
   "language": "python",
   "name": "python3"
  },
  "language_info": {
   "codemirror_mode": {
    "name": "ipython",
    "version": 3
   },
   "file_extension": ".py",
   "mimetype": "text/x-python",
   "name": "python",
   "nbconvert_exporter": "python",
   "pygments_lexer": "ipython3",
   "version": "3.9.2"
  }
 },
 "nbformat": 4,
 "nbformat_minor": 1
}
